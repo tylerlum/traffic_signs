{
  "nbformat": 4,
  "nbformat_minor": 0,
  "metadata": {
    "colab": {
      "name": "Traffic Signs.ipynb",
      "version": "0.3.2",
      "provenance": [],
      "collapsed_sections": [],
      "include_colab_link": true
    },
    "kernelspec": {
      "name": "python3",
      "display_name": "Python 3"
    }
  },
  "cells": [
    {
      "cell_type": "markdown",
      "metadata": {
        "id": "view-in-github",
        "colab_type": "text"
      },
      "source": [
        "<a href=\"https://colab.research.google.com/github/tylerlum/traffic_signs/blob/master/Traffic_Signs.ipynb\" target=\"_parent\"><img src=\"https://colab.research.google.com/assets/colab-badge.svg\" alt=\"Open In Colab\"/></a>"
      ]
    },
    {
      "metadata": {
        "id": "fQ2g4NWId5O3",
        "colab_type": "code",
        "colab": {}
      },
      "cell_type": "code",
      "source": [
        "## Get traffic sign data\n",
        "!git clone https://bitbucket.org/jadslim/german-traffic-signs\n",
        "!ls german-traffic-signs"
      ],
      "execution_count": 0,
      "outputs": []
    },
    {
      "metadata": {
        "id": "ChtqgihPdSyb",
        "colab_type": "code",
        "colab": {}
      },
      "cell_type": "code",
      "source": [
        "import numpy as np\n",
        "import matplotlib.pyplot as plt\n",
        "\n",
        "## Keras\n",
        "import keras \n",
        "from keras.models import Sequential\n",
        "from keras.layers import Dense\n",
        "from keras.optimizers import Adam\n",
        "from keras.utils.np_utils import to_categorical\n",
        "from keras.layers import Dropout, Flatten\n",
        "from keras.layers.convolutional import Conv2D, MaxPooling2D\n",
        "\n",
        "## Pickle and pandas\n",
        "import pickle\n",
        "import pandas as pd\n",
        "\n",
        "## Random\n",
        "import random\n",
        "np.random.seed(0)"
      ],
      "execution_count": 0,
      "outputs": []
    },
    {
      "metadata": {
        "id": "uwoqqGKkdwQa",
        "colab_type": "code",
        "colab": {}
      },
      "cell_type": "code",
      "source": [
        "## Unpickle files\n",
        "with open('german-traffic-signs/train.p', 'rb') as f:\n",
        "  train_data = pickle.load(f)\n",
        "with open('german-traffic-signs/valid.p', 'rb') as f:\n",
        "  val_data = pickle.load(f)\n",
        "with open('german-traffic-signs/test.p', 'rb') as f:\n",
        "  test_data = pickle.load(f)\n",
        "  \n",
        "print(type(train_data))\n",
        "\n",
        "## Get data and labels\n",
        "X_train, Y_train = train_data['features'], train_data['labels']\n",
        "X_val, Y_val = val_data['features'], val_data['labels']\n",
        "X_test, Y_test = test_data['features'], test_data['labels']\n",
        "\n",
        "## Check shape (number of pictures, width, height, RGB)\n",
        "print(X_train.shape)\n",
        "print(X_val.shape)\n",
        "print(X_test.shape)"
      ],
      "execution_count": 0,
      "outputs": []
    },
    {
      "metadata": {
        "id": "IJuOGAVhf7qe",
        "colab_type": "code",
        "colab": {}
      },
      "cell_type": "code",
      "source": [
        "## Check for bad data\n",
        "assert(X_train.shape[0] == Y_train.shape[0]), \"The number of images is not equal to the number of labels\"\n",
        "assert(X_val.shape[0] == Y_val.shape[0]), \"The number of images is not equal to the number of labels\"\n",
        "assert(X_test.shape[0] == Y_test.shape[0]), \"The number of images is not equal to the number of labels\"\n",
        "\n",
        "assert(X_train.shape[1:] == (32,32,3)), \"The dimensions of the images are not 32 x 32 x 3\"\n",
        "assert(X_val.shape[1:] == (32,32,3)), \"The dimensions of the images are not 32 x 32 x 3\"\n",
        "assert(X_test.shape[1:] == (32,32,3)), \"The dimensions of the images are not 32 x 32 x 3\""
      ],
      "execution_count": 0,
      "outputs": []
    },
    {
      "metadata": {
        "id": "hTPQYZJ-gT0a",
        "colab_type": "code",
        "colab": {}
      },
      "cell_type": "code",
      "source": [
        "## Use pandas to import data from CSV file\n",
        "data = pd.read_csv('german-traffic-signs/signnames.csv')\n",
        "num_of_samples = []\n",
        "\n",
        "cols = 5\n",
        "num_classes = data.shape[0]\n",
        "\n",
        "fig, axs = plt.subplots(nrows=num_classes, ncols=cols, figsize=(5,50))\n",
        "fig.tight_layout()\n",
        "\n",
        "## Iterate over dataframe rows as (index, Series)\n",
        "for i in range(cols):\n",
        "  for j, row in data.iterrows():\n",
        "    x_selected = X_train[Y_train == j]\n",
        "    axs[j][i].imshow(x_selected[random.randint(0,len(x_selected)-1), :, :], cmap=plt.get_cmap('gray'))\n",
        "    axs[j][i].axis('off')\n",
        "    if i == int(cols/2):\n",
        "      axs[j][i].set_title(str(j) + \"-\" + row[\"SignName\"])\n",
        "      num_of_samples.append(len(x_selected))"
      ],
      "execution_count": 0,
      "outputs": []
    },
    {
      "metadata": {
        "id": "QcqColn2lH5z",
        "colab_type": "code",
        "colab": {}
      },
      "cell_type": "code",
      "source": [
        "## Graph our data\n",
        "print(num_of_samples)\n",
        "plt.figure(figsize=(12,4))\n",
        "plt.bar(range(0, num_classes), num_of_samples)\n",
        "plt.title('Distribution of the train dataset')\n",
        "plt.xlabel('Class number')\n",
        "plt.ylabel('Number of images')\n",
        "plt.show()"
      ],
      "execution_count": 0,
      "outputs": []
    },
    {
      "metadata": {
        "id": "MSFCboc8mGvt",
        "colab_type": "code",
        "colab": {}
      },
      "cell_type": "code",
      "source": [
        "## Preprocess images\n",
        "import cv2\n",
        "\n",
        "def grayscale(img):\n",
        "  \"\"\"Color not reliable because of different lighting. Convert to gray\"\"\"\n",
        "  img = cv2.cvtColor(img, cv2.COLOR_BGR2GRAY)\n",
        "  return img\n",
        "\n",
        "def equalize(img):\n",
        "  \"\"\"Histogram Equalization (standardize lighting)\"\"\"\n",
        "  img = cv2.equalizeHist(img)  # must be grayscale img\n",
        "  return img\n",
        "\n",
        "def preprocessing(img):\n",
        "  \"\"\"Grayscale, equalize and normalize\"\"\"\n",
        "  img = grayscale(img)\n",
        "  img = equalize(img)\n",
        "  img = img / 255\n",
        "  return img\n",
        "\n",
        "X_train = np.array(list(map(preprocessing, X_train)))\n",
        "X_val = np.array(list(map(preprocessing, X_val)))\n",
        "X_test = np.array(list(map(preprocessing, X_test)))"
      ],
      "execution_count": 0,
      "outputs": []
    },
    {
      "metadata": {
        "id": "TfI4qPWhqnt4",
        "colab_type": "code",
        "colab": {}
      },
      "cell_type": "code",
      "source": [
        "## Test preprocessing\n",
        "plt.imshow(X_train[random.randint(0, len(X_train)-1)])\n",
        "plt.axis('off')\n",
        "print(X_train.shape)\n",
        "print(X_val.shape)\n",
        "print(X_test.shape)"
      ],
      "execution_count": 0,
      "outputs": []
    },
    {
      "metadata": {
        "id": "N32n51m2K0Kp",
        "colab_type": "code",
        "colab": {}
      },
      "cell_type": "code",
      "source": [
        "## Reshape input data to have depth of 1\n",
        "X_train = X_train.reshape(34799, 32, 32, 1)\n",
        "X_val = X_val.reshape(4410, 32, 32, 1)\n",
        "X_test = X_test.reshape(12630, 32, 32, 1)\n",
        "\n",
        "## One-Hot Encode outputs\n",
        "Y_train = to_categorical(Y_train)\n",
        "Y_val = to_categorical(Y_val)\n",
        "Y_test = to_categorical(Y_test)\n",
        "\n",
        "print(X_train.shape)\n",
        "print(X_val.shape)\n",
        "print(X_test.shape)"
      ],
      "execution_count": 0,
      "outputs": []
    },
    {
      "metadata": {
        "id": "eOIjMyPCQa1e",
        "colab_type": "code",
        "colab": {}
      },
      "cell_type": "code",
      "source": [
        "def leNet_model():\n",
        "  \"\"\"LeNet Model\"\"\"\n",
        "  model = Sequential()\n",
        "  model.add(Conv2D(30, (5,5), input_shape=(32,32,1), activation='relu'))\n",
        "  model.add(MaxPooling2D(pool_size=(2,2)))\n",
        "  model.add(Conv2D(15, (3,3), activation='relu'))\n",
        "  model.add(MaxPooling2D(pool_size=(2,2)))\n",
        "  model.add(Flatten())\n",
        "  model.add(Dense(500, activation='relu'))\n",
        "  model.add(Dropout(0.5))\n",
        "  model.add(Dense(num_classes, activation='softmax'))\n",
        "  \n",
        "  model.compile(Adam(lr=0.01), loss='categorical_crossentropy', metrics=['accuracy'])\n",
        "  return model"
      ],
      "execution_count": 0,
      "outputs": []
    },
    {
      "metadata": {
        "id": "Lz4oZ4XfQc1v",
        "colab_type": "code",
        "colab": {}
      },
      "cell_type": "code",
      "source": [
        "## Create leNet model\n",
        "model = leNet_model()\n",
        "print(model.summary())\n",
        "history = model.fit(X_train, Y_train, epochs=10, validation_data=(X_val, Y_val), batch_size=400, verbose=1, shuffle=1)"
      ],
      "execution_count": 0,
      "outputs": []
    }
  ]
}